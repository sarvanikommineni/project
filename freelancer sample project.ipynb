{
 "cells": [
  {
   "cell_type": "code",
   "execution_count": 2,
   "metadata": {},
   "outputs": [],
   "source": [
    "import pandas as pd\n",
    "import numpy as np\n",
    "import nltk\n",
    "import matplotlib.pyplot as plt"
   ]
  },
  {
   "cell_type": "code",
   "execution_count": 28,
   "metadata": {},
   "outputs": [],
   "source": [
    "import warnings\n",
    "warnings.filterwarnings(\"ignore\")"
   ]
  },
  {
   "cell_type": "code",
   "execution_count": 29,
   "metadata": {},
   "outputs": [],
   "source": [
    "df = pd.read_csv(\"C:/Users/officedepot/Desktop/Label.txt\",sep=\",,,\",header=None ,names=['question','type'])"
   ]
  },
  {
   "cell_type": "code",
   "execution_count": 30,
   "metadata": {},
   "outputs": [
    {
     "data": {
      "text/html": [
       "<div>\n",
       "<style scoped>\n",
       "    .dataframe tbody tr th:only-of-type {\n",
       "        vertical-align: middle;\n",
       "    }\n",
       "\n",
       "    .dataframe tbody tr th {\n",
       "        vertical-align: top;\n",
       "    }\n",
       "\n",
       "    .dataframe thead th {\n",
       "        text-align: right;\n",
       "    }\n",
       "</style>\n",
       "<table border=\"1\" class=\"dataframe\">\n",
       "  <thead>\n",
       "    <tr style=\"text-align: right;\">\n",
       "      <th></th>\n",
       "      <th>question</th>\n",
       "      <th>type</th>\n",
       "    </tr>\n",
       "  </thead>\n",
       "  <tbody>\n",
       "    <tr>\n",
       "      <td>0</td>\n",
       "      <td>how did serfdom develop in and then leave russ...</td>\n",
       "      <td>unknown</td>\n",
       "    </tr>\n",
       "    <tr>\n",
       "      <td>1</td>\n",
       "      <td>what films featured the character popeye doyle ?</td>\n",
       "      <td>what</td>\n",
       "    </tr>\n",
       "    <tr>\n",
       "      <td>2</td>\n",
       "      <td>how can i find a list of celebrities ' real na...</td>\n",
       "      <td>unknown</td>\n",
       "    </tr>\n",
       "    <tr>\n",
       "      <td>3</td>\n",
       "      <td>what fowl grabs the spotlight after the chines...</td>\n",
       "      <td>what</td>\n",
       "    </tr>\n",
       "    <tr>\n",
       "      <td>4</td>\n",
       "      <td>what is the full form of .com ?</td>\n",
       "      <td>what</td>\n",
       "    </tr>\n",
       "  </tbody>\n",
       "</table>\n",
       "</div>"
      ],
      "text/plain": [
       "                                            question      type\n",
       "0  how did serfdom develop in and then leave russ...   unknown\n",
       "1  what films featured the character popeye doyle ?       what\n",
       "2  how can i find a list of celebrities ' real na...   unknown\n",
       "3  what fowl grabs the spotlight after the chines...      what\n",
       "4                   what is the full form of .com ?       what"
      ]
     },
     "execution_count": 30,
     "metadata": {},
     "output_type": "execute_result"
    }
   ],
   "source": [
    "df.head()"
   ]
  },
  {
   "cell_type": "code",
   "execution_count": 31,
   "metadata": {},
   "outputs": [
    {
     "data": {
      "text/plain": [
       "(1483, 2)"
      ]
     },
     "execution_count": 31,
     "metadata": {},
     "output_type": "execute_result"
    }
   ],
   "source": [
    "df.shape"
   ]
  },
  {
   "cell_type": "code",
   "execution_count": 32,
   "metadata": {},
   "outputs": [],
   "source": [
    "df['type']=df['type'].str.strip()"
   ]
  },
  {
   "cell_type": "code",
   "execution_count": 33,
   "metadata": {},
   "outputs": [
    {
     "data": {
      "text/plain": [
       "array(['unknown', 'what', 'when', 'who', 'affirmation'], dtype=object)"
      ]
     },
     "execution_count": 33,
     "metadata": {},
     "output_type": "execute_result"
    }
   ],
   "source": [
    "df['type'].unique()"
   ]
  },
  {
   "cell_type": "code",
   "execution_count": 34,
   "metadata": {},
   "outputs": [
    {
     "data": {
      "text/plain": [
       "array(['how did serfdom develop in and then leave russia ? ',\n",
       "       'what films featured the character popeye doyle ? ',\n",
       "       \"how can i find a list of celebrities ' real names ? \", ...,\n",
       "       'does this hose have one ? ', 'can i get it in india ? ',\n",
       "       'would this work on a 2008 ford edge with a naked roof ? '],\n",
       "      dtype=object)"
      ]
     },
     "execution_count": 34,
     "metadata": {},
     "output_type": "execute_result"
    }
   ],
   "source": [
    "df['question'].values"
   ]
  },
  {
   "cell_type": "code",
   "execution_count": 88,
   "metadata": {},
   "outputs": [],
   "source": [
    "df['question'] = df['question'].apply(lambda x: x.lower())\n",
    "df['question'] = df['question'].apply((lambda x: re.sub('[^a-zA-z0-9\\s]','',x)))"
   ]
  },
  {
   "cell_type": "code",
   "execution_count": 37,
   "metadata": {},
   "outputs": [],
   "source": [
    "VALIDATION_SPLIT=0.20"
   ]
  },
  {
   "cell_type": "code",
   "execution_count": 38,
   "metadata": {},
   "outputs": [],
   "source": [
    "from collections import Counter, defaultdict\n",
    "from sklearn.feature_extraction.text import CountVectorizer\n",
    "from sklearn.feature_extraction.text import TfidfVectorizer\n",
    "import pickle as pkl\n",
    "from sklearn.naive_bayes import MultinomialNB\n",
    "# organize imports\n",
    "from sklearn.metrics import classification_report\n",
    "from sklearn.model_selection import train_test_split\n",
    "from sklearn.metrics import confusion_matrix"
   ]
  },
  {
   "cell_type": "code",
   "execution_count": 39,
   "metadata": {},
   "outputs": [],
   "source": [
    "from nltk.stem import SnowballStemmer\n",
    "from nltk import word_tokenize\n",
    "from nltk.corpus import wordnet as wn"
   ]
  },
  {
   "cell_type": "code",
   "execution_count": 40,
   "metadata": {},
   "outputs": [],
   "source": [
    "class StemTokenizer(object):\n",
    "    def __init__(self):\n",
    "        self.ignore_set = {'footnote', 'nietzsche', 'plato', 'mr.'}\n",
    "\n",
    "    def __call__(self, doc):\n",
    "        words = []\n",
    "        for word in word_tokenize(doc):\n",
    "            word = word.lower()\n",
    "            w = wn.morphy(word)\n",
    "            if w and len(w) > 1 and w not in self.ignore_set:\n",
    "                words.append(w)\n",
    "        return words"
   ]
  },
  {
   "cell_type": "code",
   "execution_count": 41,
   "metadata": {},
   "outputs": [],
   "source": [
    "stemmer = SnowballStemmer('english').stem\n",
    "def stem_tokenize(text):\n",
    "    return [stemmer(i) for i in word_tokenize(text)]"
   ]
  },
  {
   "cell_type": "code",
   "execution_count": 45,
   "metadata": {},
   "outputs": [
    {
     "name": "stderr",
     "output_type": "stream",
     "text": [
      "[nltk_data] Downloading package punkt to\n",
      "[nltk_data]     C:\\Users\\officedepot\\AppData\\Roaming\\nltk_data...\n",
      "[nltk_data]   Unzipping tokenizers\\punkt.zip.\n"
     ]
    },
    {
     "data": {
      "text/plain": [
       "True"
      ]
     },
     "execution_count": 45,
     "metadata": {},
     "output_type": "execute_result"
    }
   ],
   "source": [
    "import nltk\n",
    "nltk.download('punkt')"
   ]
  },
  {
   "cell_type": "code",
   "execution_count": 46,
   "metadata": {},
   "outputs": [],
   "source": [
    "vectorizer = CountVectorizer(analyzer='word',lowercase=True,tokenizer=stem_tokenize)\n",
    "X_train = vectorizer.fit_transform(df.question.values)\n",
    "with open('vectorizer.pk', 'wb') as fin:\n",
    "    pkl.dump(vectorizer, fin)"
   ]
  },
  {
   "cell_type": "code",
   "execution_count": 89,
   "metadata": {},
   "outputs": [],
   "source": [
    "labels = data['type']"
   ]
  },
  {
   "cell_type": "code",
   "execution_count": 90,
   "metadata": {},
   "outputs": [],
   "source": [
    "indices = np.arange(X_train.shape[0])\n",
    "np.random.shuffle(indices)\n",
    "X_train = X_train[indices]\n",
    "labels = labels[indices]\n",
    "nb_validation_samples = int(VALIDATION_SPLIT * X_train.shape[0])\n",
    "\n",
    "x_train = X_train[:-nb_validation_samples]\n",
    "y_train = labels[:-nb_validation_samples]\n",
    "x_val = X_train[-nb_validation_samples:]\n",
    "y_val = labels[-nb_validation_samples:]"
   ]
  },
  {
   "cell_type": "code",
   "execution_count": 91,
   "metadata": {},
   "outputs": [
    {
     "data": {
      "text/plain": [
       "MultinomialNB(alpha=1.0, class_prior=None, fit_prior=True)"
      ]
     },
     "execution_count": 91,
     "metadata": {},
     "output_type": "execute_result"
    }
   ],
   "source": [
    "clf = MultinomialNB()\n",
    "clf.fit(x_train,y_train)"
   ]
  },
  {
   "cell_type": "code",
   "execution_count": 92,
   "metadata": {},
   "outputs": [
    {
     "name": "stdout",
     "output_type": "stream",
     "text": [
      "              precision    recall  f1-score   support\n",
      "\n",
      " affirmation       0.00      0.00      0.00         0\n",
      "     unknown       0.00      0.00      0.00         0\n",
      "        what       0.95      0.43      0.60       284\n",
      "        when       0.00      0.00      0.00         0\n",
      "         who       0.04      0.25      0.07        12\n",
      "\n",
      "    accuracy                           0.43       296\n",
      "   macro avg       0.20      0.14      0.13       296\n",
      "weighted avg       0.92      0.43      0.57       296\n",
      "\n",
      "Accuracy : 0.42567567567567566\n"
     ]
    }
   ],
   "source": [
    "preds = clf.predict(x_val)\n",
    "print(classification_report(preds,y_val))\n",
    "print(\"Accuracy :\",clf.score(x_val,y_val))"
   ]
  },
  {
   "cell_type": "code",
   "execution_count": 93,
   "metadata": {},
   "outputs": [
    {
     "data": {
      "text/plain": [
       "array(['what'], dtype='<U11')"
      ]
     },
     "execution_count": 93,
     "metadata": {},
     "output_type": "execute_result"
    }
   ],
   "source": [
    "example=vectorizer.transform([\"What time does the train leave\"])\n",
    "clf.predict(example)"
   ]
  },
  {
   "cell_type": "code",
   "execution_count": 80,
   "metadata": {},
   "outputs": [],
   "source": [
    "tf_vectorizer = TfidfVectorizer(analyzer='word',lowercase=True,tokenizer=stem_tokenize)\n",
    "X_train = tf_vectorizer.fit_transform(df.question.values)\n",
    "with open('tf_vectorizer.pk', 'wb') as fin:\n",
    "    pkl.dump(tf_vectorizer, fin)"
   ]
  },
  {
   "cell_type": "code",
   "execution_count": 81,
   "metadata": {},
   "outputs": [],
   "source": [
    "labels = data['type']\n",
    "# split the data into a training set and a validation set\n",
    "indices = np.arange(X_train.shape[0])\n",
    "np.random.shuffle(indices)\n",
    "X_train = X_train[indices]\n",
    "labels = labels[indices]\n",
    "nb_validation_samples = int(VALIDATION_SPLIT * X_train.shape[0])\n",
    "\n",
    "x_train = X_train[:-nb_validation_samples]\n",
    "y_train = labels[:-nb_validation_samples]\n",
    "x_val = X_train[-nb_validation_samples:]\n",
    "y_val = labels[-nb_validation_samples:]"
   ]
  },
  {
   "cell_type": "code",
   "execution_count": 82,
   "metadata": {},
   "outputs": [
    {
     "data": {
      "text/plain": [
       "MultinomialNB(alpha=1.0, class_prior=None, fit_prior=True)"
      ]
     },
     "execution_count": 82,
     "metadata": {},
     "output_type": "execute_result"
    }
   ],
   "source": [
    "clf = MultinomialNB()\n",
    "clf.fit(x_train,y_train)"
   ]
  },
  {
   "cell_type": "code",
   "execution_count": 83,
   "metadata": {},
   "outputs": [
    {
     "name": "stdout",
     "output_type": "stream",
     "text": [
      "              precision    recall  f1-score   support\n",
      "\n",
      " affirmation       0.05      1.00      0.09         1\n",
      "     unknown       0.50      0.97      0.66        31\n",
      "        what       1.00      0.56      0.72       206\n",
      "        when       0.00      0.00      0.00         0\n",
      "         who       0.66      0.91      0.77        58\n",
      "\n",
      "    accuracy                           0.68       296\n",
      "   macro avg       0.44      0.69      0.45       296\n",
      "weighted avg       0.88      0.68      0.72       296\n",
      "\n",
      "Accuracy : 0.6756756756756757\n"
     ]
    }
   ],
   "source": [
    "# evaluate the model of test data\n",
    "preds = clf.predict(x_val)\n",
    "print(classification_report(preds,y_val))\n",
    "print(\"Accuracy :\",clf.score(x_val,y_val))\n"
   ]
  },
  {
   "cell_type": "code",
   "execution_count": 84,
   "metadata": {},
   "outputs": [
    {
     "data": {
      "text/plain": [
       "array(['what'], dtype='<U11')"
      ]
     },
     "execution_count": 84,
     "metadata": {},
     "output_type": "execute_result"
    }
   ],
   "source": [
    "example=tf_vectorizer.transform([\"What time does the train leave\"])\n",
    "clf.predict(example)"
   ]
  },
  {
   "cell_type": "code",
   "execution_count": 62,
   "metadata": {},
   "outputs": [
    {
     "name": "stderr",
     "output_type": "stream",
     "text": [
      "Using TensorFlow backend.\n"
     ]
    }
   ],
   "source": [
    "from keras.models import Sequential\n",
    "from keras.layers import Dense, Embedding, LSTM\n",
    "from sklearn.model_selection import train_test_split\n",
    "from keras.utils.np_utils import to_categorical"
   ]
  },
  {
   "cell_type": "code",
   "execution_count": 63,
   "metadata": {},
   "outputs": [],
   "source": [
    "MAX_NB_WORDS = 20000\n",
    "MAX_SEQUENCE_LENGTH=30"
   ]
  },
  {
   "cell_type": "code",
   "execution_count": 64,
   "metadata": {},
   "outputs": [],
   "source": [
    "from keras.preprocessing.text import Tokenizer\n",
    "from keras.preprocessing.sequence import pad_sequences\n",
    "import re"
   ]
  },
  {
   "cell_type": "code",
   "execution_count": 65,
   "metadata": {},
   "outputs": [],
   "source": [
    "data=df.copy()"
   ]
  },
  {
   "cell_type": "code",
   "execution_count": 66,
   "metadata": {},
   "outputs": [
    {
     "name": "stdout",
     "output_type": "stream",
     "text": [
      "what           609\n",
      "who            402\n",
      "unknown        272\n",
      "affirmation    104\n",
      "when            96\n",
      "Name: type, dtype: int64\n"
     ]
    }
   ],
   "source": [
    "print(data['type'].value_counts())\n",
    "\n",
    "tokenizer = Tokenizer(num_words=MAX_NB_WORDS, split=' ')\n",
    "tokenizer.fit_on_texts(data['question'].values)\n",
    "X = tokenizer.texts_to_sequences(data['question'].values)\n",
    "X = pad_sequences(X, maxlen=MAX_SEQUENCE_LENGTH)"
   ]
  },
  {
   "cell_type": "code",
   "execution_count": 67,
   "metadata": {},
   "outputs": [
    {
     "name": "stdout",
     "output_type": "stream",
     "text": [
      "Found 3675 unique tokens.\n",
      "Shape of data tensor: (1483, 30)\n",
      "Shape of label tensor: (1483, 5)\n"
     ]
    }
   ],
   "source": [
    "word_index = tokenizer.word_index\n",
    "print('Found %s unique tokens.' % len(word_index))\n",
    "\n",
    "Y = data['type']\n",
    "from sklearn import preprocessing\n",
    "le = preprocessing.LabelEncoder()\n",
    "le.fit(Y)\n",
    "Y=le.transform(Y) \n",
    "labels = to_categorical(np.asarray(Y))\n",
    "print('Shape of data tensor:', X.shape)\n",
    "print('Shape of label tensor:', labels.shape)\n",
    "\n",
    "\n",
    "# split the data into a training set and a validation set\n",
    "indices = np.arange(X.shape[0])\n",
    "np.random.shuffle(indices)\n",
    "X = X[indices]\n",
    "labels = labels[indices]\n",
    "nb_validation_samples = int(VALIDATION_SPLIT * X.shape[0])\n",
    "\n",
    "x_train = X[:-nb_validation_samples]\n",
    "y_train = labels[:-nb_validation_samples]\n",
    "x_val = X[-nb_validation_samples:]\n",
    "y_val = labels[-nb_validation_samples:]"
   ]
  },
  {
   "cell_type": "code",
   "execution_count": 87,
   "metadata": {},
   "outputs": [],
   "source": [
    "EMBEDDING_DIM=300"
   ]
  },
  {
   "cell_type": "code",
   "execution_count": 71,
   "metadata": {},
   "outputs": [],
   "source": [
    "embedding_matrix = np.zeros((len(word_index) + 1, EMBEDDING_DIM))\n",
    "for word, i in word_index.items():\n",
    "    embedding_vector = embeddings_index.get(word)\n",
    "    if embedding_vector is not None:\n",
    "        # words not found in embedding index will be all-zeros.\n",
    "        embedding_matrix[i] = embedding_vector"
   ]
  },
  {
   "cell_type": "code",
   "execution_count": 72,
   "metadata": {},
   "outputs": [],
   "source": [
    "from keras.layers import Embedding\n",
    "\n",
    "embedding_layer = Embedding(len(word_index) + 1,\n",
    "                            EMBEDDING_DIM,\n",
    "                            weights=[embedding_matrix],\n",
    "                            input_length=MAX_SEQUENCE_LENGTH,\n",
    "                            trainable=False)"
   ]
  },
  {
   "cell_type": "code",
   "execution_count": 73,
   "metadata": {},
   "outputs": [
    {
     "name": "stdout",
     "output_type": "stream",
     "text": [
      "Model: \"sequential_1\"\n",
      "_________________________________________________________________\n",
      "Layer (type)                 Output Shape              Param #   \n",
      "=================================================================\n",
      "embedding_1 (Embedding)      (None, 30, 300)           1102800   \n",
      "_________________________________________________________________\n",
      "lstm_1 (LSTM)                (None, 196)               389648    \n",
      "_________________________________________________________________\n",
      "dense_1 (Dense)              (None, 5)                 985       \n",
      "=================================================================\n",
      "Total params: 1,493,433\n",
      "Trainable params: 390,633\n",
      "Non-trainable params: 1,102,800\n",
      "_________________________________________________________________\n",
      "None\n"
     ]
    }
   ],
   "source": [
    "embed_dim = 300\n",
    "lstm_out = 196\n",
    "\n",
    "model = Sequential()\n",
    "model.add(embedding_layer)\n",
    "model.add(LSTM(lstm_out, dropout_U=0.25, dropout_W=0.25))\n",
    "model.add(Dense(5,activation='softmax'))\n",
    "model.compile(loss = 'categorical_crossentropy', optimizer='adam',metrics = ['accuracy'])\n",
    "print(model.summary())"
   ]
  },
  {
   "cell_type": "code",
   "execution_count": 74,
   "metadata": {},
   "outputs": [
    {
     "name": "stdout",
     "output_type": "stream",
     "text": [
      "Train on 1187 samples, validate on 296 samples\n",
      "Epoch 1/20\n",
      "1187/1187 [==============================] - 26s 22ms/step - loss: 1.5545 - accuracy: 0.3564 - val_loss: 1.5210 - val_accuracy: 0.4662\n",
      "Epoch 2/20\n",
      "1187/1187 [==============================] - 14s 12ms/step - loss: 1.4573 - accuracy: 0.3976 - val_loss: 1.4451 - val_accuracy: 0.4662\n",
      "Epoch 3/20\n",
      "1187/1187 [==============================] - 11s 9ms/step - loss: 1.4093 - accuracy: 0.3951 - val_loss: 1.4122 - val_accuracy: 0.4662\n",
      "Epoch 4/20\n",
      "1187/1187 [==============================] - 12s 10ms/step - loss: 1.4135 - accuracy: 0.3968 - val_loss: 1.3984 - val_accuracy: 0.4662\n",
      "Epoch 5/20\n",
      "1187/1187 [==============================] - 10s 9ms/step - loss: 1.4005 - accuracy: 0.3968 - val_loss: 1.4010 - val_accuracy: 0.4662\n",
      "Epoch 6/20\n",
      "1187/1187 [==============================] - 9s 8ms/step - loss: 1.4038 - accuracy: 0.3968 - val_loss: 1.4028 - val_accuracy: 0.4662\n",
      "Epoch 7/20\n",
      "1187/1187 [==============================] - 10s 8ms/step - loss: 1.4030 - accuracy: 0.3968 - val_loss: 1.4105 - val_accuracy: 0.4662\n",
      "Epoch 8/20\n",
      "1187/1187 [==============================] - 9s 8ms/step - loss: 1.4021 - accuracy: 0.3968 - val_loss: 1.3891 - val_accuracy: 0.4662\n",
      "Epoch 9/20\n",
      "1187/1187 [==============================] - 12s 10ms/step - loss: 1.3971 - accuracy: 0.3968 - val_loss: 1.3992 - val_accuracy: 0.4662\n",
      "Epoch 10/20\n",
      "1187/1187 [==============================] - 12s 10ms/step - loss: 1.4020 - accuracy: 0.3968 - val_loss: 1.3937 - val_accuracy: 0.4662\n",
      "Epoch 11/20\n",
      "1187/1187 [==============================] - 13s 11ms/step - loss: 1.4006 - accuracy: 0.3968 - val_loss: 1.3938 - val_accuracy: 0.4662\n",
      "Epoch 12/20\n",
      "1187/1187 [==============================] - 11s 10ms/step - loss: 1.3990 - accuracy: 0.3968 - val_loss: 1.3979 - val_accuracy: 0.4662\n",
      "Epoch 13/20\n",
      "1187/1187 [==============================] - 9s 8ms/step - loss: 1.3961 - accuracy: 0.3968 - val_loss: 1.3987 - val_accuracy: 0.4662\n",
      "Epoch 14/20\n",
      "1187/1187 [==============================] - 10s 8ms/step - loss: 1.4019 - accuracy: 0.3968 - val_loss: 1.4001 - val_accuracy: 0.4662\n",
      "Epoch 15/20\n",
      "1187/1187 [==============================] - 9s 7ms/step - loss: 1.4021 - accuracy: 0.3968 - val_loss: 1.3989 - val_accuracy: 0.4662\n",
      "Epoch 16/20\n",
      "1187/1187 [==============================] - 11s 9ms/step - loss: 1.4035 - accuracy: 0.3968 - val_loss: 1.3943 - val_accuracy: 0.4662\n",
      "Epoch 17/20\n",
      "1187/1187 [==============================] - 11s 10ms/step - loss: 1.3972 - accuracy: 0.3968 - val_loss: 1.4018 - val_accuracy: 0.4662\n",
      "Epoch 18/20\n",
      "1187/1187 [==============================] - 9s 7ms/step - loss: 1.3974 - accuracy: 0.3968 - val_loss: 1.3965 - val_accuracy: 0.4662\n",
      "Epoch 19/20\n",
      "1187/1187 [==============================] - 11s 9ms/step - loss: 1.3996 - accuracy: 0.3968 - val_loss: 1.3885 - val_accuracy: 0.4662\n",
      "Epoch 20/20\n",
      "1187/1187 [==============================] - 12s 11ms/step - loss: 1.3976 - accuracy: 0.3968 - val_loss: 1.4031 - val_accuracy: 0.4662\n"
     ]
    },
    {
     "data": {
      "text/plain": [
       "<keras.callbacks.callbacks.History at 0x311487b448>"
      ]
     },
     "execution_count": 74,
     "metadata": {},
     "output_type": "execute_result"
    }
   ],
   "source": [
    "model.fit(x_train, y_train,\n",
    "          batch_size=128,\n",
    "          epochs=20,\n",
    "          validation_data=(x_val, y_val))"
   ]
  },
  {
   "cell_type": "code",
   "execution_count": 111,
   "metadata": {},
   "outputs": [],
   "source": [
    "example = tokenizer.texts_to_sequences([\"What time does the train leave\"])\n",
    "example = pad_sequences(example, maxlen=MAX_SEQUENCE_LENGTH)\n"
   ]
  },
  {
   "cell_type": "code",
   "execution_count": null,
   "metadata": {},
   "outputs": [],
   "source": []
  }
 ],
 "metadata": {
  "kernelspec": {
   "display_name": "Python 3",
   "language": "python",
   "name": "python3"
  },
  "language_info": {
   "codemirror_mode": {
    "name": "ipython",
    "version": 3
   },
   "file_extension": ".py",
   "mimetype": "text/x-python",
   "name": "python",
   "nbconvert_exporter": "python",
   "pygments_lexer": "ipython3",
   "version": "3.7.4"
  }
 },
 "nbformat": 4,
 "nbformat_minor": 2
}
